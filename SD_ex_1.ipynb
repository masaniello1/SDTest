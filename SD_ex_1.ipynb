{
  "nbformat": 4,
  "nbformat_minor": 0,
  "metadata": {
    "colab": {
      "provenance": [],
      "gpuType": "T4"
    },
    "kernelspec": {
      "name": "python3",
      "display_name": "Python 3"
    },
    "language_info": {
      "name": "python"
    },
    "accelerator": "GPU"
  },
  "cells": [
    {
      "cell_type": "markdown",
      "source": [
        "\n",
        "\n",
        "Free T4 GPU on Colab works\n",
        "\n"
      ],
      "metadata": {
        "id": "R1Kus3q-Sl9a"
      }
    },
    {
      "cell_type": "code",
      "execution_count": null,
      "metadata": {
        "id": "u9v9keo_Ob1u"
      },
      "outputs": [],
      "source": [
        "!git clone https://github.com/masaniello1/SDTest\n",
        "%cd SDTest\n",
        "\n",
        "!pip install -r requirements3.txt"
      ]
    },
    {
      "cell_type": "markdown",
      "source": [
        "## Run the cell below and click on the public link to view the demo.\n"
      ],
      "metadata": {
        "id": "Ukiyc7GkTNY9"
      }
    },
    {
      "cell_type": "code",
      "source": [
        "# Refiner is disabled by default due to a lack of system memory in the free tier of Colab. You can enable it by setting `ENABLE_REFINER=true`.\n",
        "!PYTORCH_CUDA_ALLOC_CONF=max_split_size_mb:128 SHARE=true ENABLE_REFINER=false python ex_1.py"
      ],
      "metadata": {
        "id": "QqV3rnyiPBhR"
      },
      "execution_count": null,
      "outputs": []
    }
  ]
}